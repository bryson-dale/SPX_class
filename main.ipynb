{
 "cells": [
  {
   "cell_type": "code",
   "execution_count": null,
   "metadata": {},
   "outputs": [],
   "source": [
    "# main.ipynb\n",
    "\n",
    "# Import\n",
    "import sys\n",
    "import os\n",
    "import warnings\n",
    "sys.path.append(os.getcwd())\n",
    "warnings.simplefilter(action='ignore', category=FutureWarning)\n",
    "\n",
    "from config import Config\n",
    "from data_loader import DataLoader\n",
    "from strategy.momentum_sector_LS import MomentumSectorLongShortStrategy\n",
    "from benchmark import Benchmark\n",
    "from backtest import Backtest\n",
    "from plotter import plot_returns\n",
    "from stats_calculator import display_statistics\n",
    "\n",
    "\n",
    "\n",
    "# Initialize Config and DataLoader\n",
    "config = Config(transaction_cost_bps=5)\n",
    "data_loader = DataLoader(data_folder='data')\n",
    "\n",
    "# Initialize Strategy\n",
    "strategy = MomentumSectorLongShortStrategy(data_loader, config)\n",
    "strategy.set_parameters(\n",
    "    num_sectors=5,           # Max is 8\n",
    "    trading_frequency='M',  # Accepts 'M', '2W', 'W', 'D'\n",
    "    start_date='1979-01-01', # Min is 1926-01-01 (value is date of data collection needed to first implement a strategy)\n",
    "    end_date=None\n",
    ")\n",
    "\n",
    "# Initialize Benchmark\n",
    "benchmark = Benchmark(data_loader, config)\n",
    "\n",
    "# Run Backtest\n",
    "backtest = Backtest(strategy, benchmark)\n",
    "backtest.run_backtest()\n",
    "\n",
    "# Get Returns\n",
    "returns_dict = backtest.get_returns()\n",
    "\n",
    "# Plot Returns\n",
    "plot_returns(returns_dict)\n",
    "\n",
    "# Display Statistics\n",
    "display_statistics(returns_dict, sig_figs=4)"
   ]
  }
 ],
 "metadata": {
  "kernelspec": {
   "display_name": "pmp",
   "language": "python",
   "name": "python3"
  },
  "language_info": {
   "codemirror_mode": {
    "name": "ipython",
    "version": 3
   },
   "file_extension": ".py",
   "mimetype": "text/x-python",
   "name": "python",
   "nbconvert_exporter": "python",
   "pygments_lexer": "ipython3",
   "version": "3.10.14"
  }
 },
 "nbformat": 4,
 "nbformat_minor": 2
}
